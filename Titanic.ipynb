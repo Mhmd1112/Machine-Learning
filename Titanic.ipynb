{
 "cells": [
  {
   "cell_type": "code",
   "execution_count": 1,
   "id": "2d63b4c8",
   "metadata": {},
   "outputs": [],
   "source": [
    "import numpy as np\n",
    "import pandas as pd\n",
    "import matplotlib.pyplot as plt \n",
    "import seaborn as sns"
   ]
  },
  {
   "cell_type": "code",
   "execution_count": 2,
   "id": "c0d8a014",
   "metadata": {},
   "outputs": [],
   "source": [
    "data = pd.read_csv(r\"C:\\Users\\Mohammed Yasser\\Downloads\\Compressed\\archive\\Titanic-Dataset.csv\")"
   ]
  },
  {
   "cell_type": "code",
   "execution_count": 3,
   "id": "6743a45a",
   "metadata": {},
   "outputs": [
    {
     "data": {
      "application/vnd.microsoft.datawrangler.viewer.v0+json": {
       "columns": [
        {
         "name": "index",
         "rawType": "int64",
         "type": "integer"
        },
        {
         "name": "PassengerId",
         "rawType": "int64",
         "type": "integer"
        },
        {
         "name": "Survived",
         "rawType": "int64",
         "type": "integer"
        },
        {
         "name": "Pclass",
         "rawType": "int64",
         "type": "integer"
        },
        {
         "name": "Name",
         "rawType": "object",
         "type": "string"
        },
        {
         "name": "Sex",
         "rawType": "object",
         "type": "string"
        },
        {
         "name": "Age",
         "rawType": "float64",
         "type": "float"
        },
        {
         "name": "SibSp",
         "rawType": "int64",
         "type": "integer"
        },
        {
         "name": "Parch",
         "rawType": "int64",
         "type": "integer"
        },
        {
         "name": "Ticket",
         "rawType": "object",
         "type": "string"
        },
        {
         "name": "Fare",
         "rawType": "float64",
         "type": "float"
        },
        {
         "name": "Cabin",
         "rawType": "object",
         "type": "unknown"
        },
        {
         "name": "Embarked",
         "rawType": "object",
         "type": "string"
        }
       ],
       "ref": "9f095add-84b2-44c5-81b6-335dc53c4f12",
       "rows": [
        [
         "0",
         "1",
         "0",
         "3",
         "Braund, Mr. Owen Harris",
         "male",
         "22.0",
         "1",
         "0",
         "A/5 21171",
         "7.25",
         null,
         "S"
        ],
        [
         "1",
         "2",
         "1",
         "1",
         "Cumings, Mrs. John Bradley (Florence Briggs Thayer)",
         "female",
         "38.0",
         "1",
         "0",
         "PC 17599",
         "71.2833",
         "C85",
         "C"
        ],
        [
         "2",
         "3",
         "1",
         "3",
         "Heikkinen, Miss. Laina",
         "female",
         "26.0",
         "0",
         "0",
         "STON/O2. 3101282",
         "7.925",
         null,
         "S"
        ],
        [
         "3",
         "4",
         "1",
         "1",
         "Futrelle, Mrs. Jacques Heath (Lily May Peel)",
         "female",
         "35.0",
         "1",
         "0",
         "113803",
         "53.1",
         "C123",
         "S"
        ],
        [
         "4",
         "5",
         "0",
         "3",
         "Allen, Mr. William Henry",
         "male",
         "35.0",
         "0",
         "0",
         "373450",
         "8.05",
         null,
         "S"
        ],
        [
         "5",
         "6",
         "0",
         "3",
         "Moran, Mr. James",
         "male",
         null,
         "0",
         "0",
         "330877",
         "8.4583",
         null,
         "Q"
        ],
        [
         "6",
         "7",
         "0",
         "1",
         "McCarthy, Mr. Timothy J",
         "male",
         "54.0",
         "0",
         "0",
         "17463",
         "51.8625",
         "E46",
         "S"
        ],
        [
         "7",
         "8",
         "0",
         "3",
         "Palsson, Master. Gosta Leonard",
         "male",
         "2.0",
         "3",
         "1",
         "349909",
         "21.075",
         null,
         "S"
        ],
        [
         "8",
         "9",
         "1",
         "3",
         "Johnson, Mrs. Oscar W (Elisabeth Vilhelmina Berg)",
         "female",
         "27.0",
         "0",
         "2",
         "347742",
         "11.1333",
         null,
         "S"
        ],
        [
         "9",
         "10",
         "1",
         "2",
         "Nasser, Mrs. Nicholas (Adele Achem)",
         "female",
         "14.0",
         "1",
         "0",
         "237736",
         "30.0708",
         null,
         "C"
        ]
       ],
       "shape": {
        "columns": 12,
        "rows": 10
       }
      },
      "text/html": [
       "<div>\n",
       "<style scoped>\n",
       "    .dataframe tbody tr th:only-of-type {\n",
       "        vertical-align: middle;\n",
       "    }\n",
       "\n",
       "    .dataframe tbody tr th {\n",
       "        vertical-align: top;\n",
       "    }\n",
       "\n",
       "    .dataframe thead th {\n",
       "        text-align: right;\n",
       "    }\n",
       "</style>\n",
       "<table border=\"1\" class=\"dataframe\">\n",
       "  <thead>\n",
       "    <tr style=\"text-align: right;\">\n",
       "      <th></th>\n",
       "      <th>PassengerId</th>\n",
       "      <th>Survived</th>\n",
       "      <th>Pclass</th>\n",
       "      <th>Name</th>\n",
       "      <th>Sex</th>\n",
       "      <th>Age</th>\n",
       "      <th>SibSp</th>\n",
       "      <th>Parch</th>\n",
       "      <th>Ticket</th>\n",
       "      <th>Fare</th>\n",
       "      <th>Cabin</th>\n",
       "      <th>Embarked</th>\n",
       "    </tr>\n",
       "  </thead>\n",
       "  <tbody>\n",
       "    <tr>\n",
       "      <th>0</th>\n",
       "      <td>1</td>\n",
       "      <td>0</td>\n",
       "      <td>3</td>\n",
       "      <td>Braund, Mr. Owen Harris</td>\n",
       "      <td>male</td>\n",
       "      <td>22.0</td>\n",
       "      <td>1</td>\n",
       "      <td>0</td>\n",
       "      <td>A/5 21171</td>\n",
       "      <td>7.2500</td>\n",
       "      <td>NaN</td>\n",
       "      <td>S</td>\n",
       "    </tr>\n",
       "    <tr>\n",
       "      <th>1</th>\n",
       "      <td>2</td>\n",
       "      <td>1</td>\n",
       "      <td>1</td>\n",
       "      <td>Cumings, Mrs. John Bradley (Florence Briggs Th...</td>\n",
       "      <td>female</td>\n",
       "      <td>38.0</td>\n",
       "      <td>1</td>\n",
       "      <td>0</td>\n",
       "      <td>PC 17599</td>\n",
       "      <td>71.2833</td>\n",
       "      <td>C85</td>\n",
       "      <td>C</td>\n",
       "    </tr>\n",
       "    <tr>\n",
       "      <th>2</th>\n",
       "      <td>3</td>\n",
       "      <td>1</td>\n",
       "      <td>3</td>\n",
       "      <td>Heikkinen, Miss. Laina</td>\n",
       "      <td>female</td>\n",
       "      <td>26.0</td>\n",
       "      <td>0</td>\n",
       "      <td>0</td>\n",
       "      <td>STON/O2. 3101282</td>\n",
       "      <td>7.9250</td>\n",
       "      <td>NaN</td>\n",
       "      <td>S</td>\n",
       "    </tr>\n",
       "    <tr>\n",
       "      <th>3</th>\n",
       "      <td>4</td>\n",
       "      <td>1</td>\n",
       "      <td>1</td>\n",
       "      <td>Futrelle, Mrs. Jacques Heath (Lily May Peel)</td>\n",
       "      <td>female</td>\n",
       "      <td>35.0</td>\n",
       "      <td>1</td>\n",
       "      <td>0</td>\n",
       "      <td>113803</td>\n",
       "      <td>53.1000</td>\n",
       "      <td>C123</td>\n",
       "      <td>S</td>\n",
       "    </tr>\n",
       "    <tr>\n",
       "      <th>4</th>\n",
       "      <td>5</td>\n",
       "      <td>0</td>\n",
       "      <td>3</td>\n",
       "      <td>Allen, Mr. William Henry</td>\n",
       "      <td>male</td>\n",
       "      <td>35.0</td>\n",
       "      <td>0</td>\n",
       "      <td>0</td>\n",
       "      <td>373450</td>\n",
       "      <td>8.0500</td>\n",
       "      <td>NaN</td>\n",
       "      <td>S</td>\n",
       "    </tr>\n",
       "    <tr>\n",
       "      <th>5</th>\n",
       "      <td>6</td>\n",
       "      <td>0</td>\n",
       "      <td>3</td>\n",
       "      <td>Moran, Mr. James</td>\n",
       "      <td>male</td>\n",
       "      <td>NaN</td>\n",
       "      <td>0</td>\n",
       "      <td>0</td>\n",
       "      <td>330877</td>\n",
       "      <td>8.4583</td>\n",
       "      <td>NaN</td>\n",
       "      <td>Q</td>\n",
       "    </tr>\n",
       "    <tr>\n",
       "      <th>6</th>\n",
       "      <td>7</td>\n",
       "      <td>0</td>\n",
       "      <td>1</td>\n",
       "      <td>McCarthy, Mr. Timothy J</td>\n",
       "      <td>male</td>\n",
       "      <td>54.0</td>\n",
       "      <td>0</td>\n",
       "      <td>0</td>\n",
       "      <td>17463</td>\n",
       "      <td>51.8625</td>\n",
       "      <td>E46</td>\n",
       "      <td>S</td>\n",
       "    </tr>\n",
       "    <tr>\n",
       "      <th>7</th>\n",
       "      <td>8</td>\n",
       "      <td>0</td>\n",
       "      <td>3</td>\n",
       "      <td>Palsson, Master. Gosta Leonard</td>\n",
       "      <td>male</td>\n",
       "      <td>2.0</td>\n",
       "      <td>3</td>\n",
       "      <td>1</td>\n",
       "      <td>349909</td>\n",
       "      <td>21.0750</td>\n",
       "      <td>NaN</td>\n",
       "      <td>S</td>\n",
       "    </tr>\n",
       "    <tr>\n",
       "      <th>8</th>\n",
       "      <td>9</td>\n",
       "      <td>1</td>\n",
       "      <td>3</td>\n",
       "      <td>Johnson, Mrs. Oscar W (Elisabeth Vilhelmina Berg)</td>\n",
       "      <td>female</td>\n",
       "      <td>27.0</td>\n",
       "      <td>0</td>\n",
       "      <td>2</td>\n",
       "      <td>347742</td>\n",
       "      <td>11.1333</td>\n",
       "      <td>NaN</td>\n",
       "      <td>S</td>\n",
       "    </tr>\n",
       "    <tr>\n",
       "      <th>9</th>\n",
       "      <td>10</td>\n",
       "      <td>1</td>\n",
       "      <td>2</td>\n",
       "      <td>Nasser, Mrs. Nicholas (Adele Achem)</td>\n",
       "      <td>female</td>\n",
       "      <td>14.0</td>\n",
       "      <td>1</td>\n",
       "      <td>0</td>\n",
       "      <td>237736</td>\n",
       "      <td>30.0708</td>\n",
       "      <td>NaN</td>\n",
       "      <td>C</td>\n",
       "    </tr>\n",
       "  </tbody>\n",
       "</table>\n",
       "</div>"
      ],
      "text/plain": [
       "   PassengerId  Survived  Pclass  \\\n",
       "0            1         0       3   \n",
       "1            2         1       1   \n",
       "2            3         1       3   \n",
       "3            4         1       1   \n",
       "4            5         0       3   \n",
       "5            6         0       3   \n",
       "6            7         0       1   \n",
       "7            8         0       3   \n",
       "8            9         1       3   \n",
       "9           10         1       2   \n",
       "\n",
       "                                                Name     Sex   Age  SibSp  \\\n",
       "0                            Braund, Mr. Owen Harris    male  22.0      1   \n",
       "1  Cumings, Mrs. John Bradley (Florence Briggs Th...  female  38.0      1   \n",
       "2                             Heikkinen, Miss. Laina  female  26.0      0   \n",
       "3       Futrelle, Mrs. Jacques Heath (Lily May Peel)  female  35.0      1   \n",
       "4                           Allen, Mr. William Henry    male  35.0      0   \n",
       "5                                   Moran, Mr. James    male   NaN      0   \n",
       "6                            McCarthy, Mr. Timothy J    male  54.0      0   \n",
       "7                     Palsson, Master. Gosta Leonard    male   2.0      3   \n",
       "8  Johnson, Mrs. Oscar W (Elisabeth Vilhelmina Berg)  female  27.0      0   \n",
       "9                Nasser, Mrs. Nicholas (Adele Achem)  female  14.0      1   \n",
       "\n",
       "   Parch            Ticket     Fare Cabin Embarked  \n",
       "0      0         A/5 21171   7.2500   NaN        S  \n",
       "1      0          PC 17599  71.2833   C85        C  \n",
       "2      0  STON/O2. 3101282   7.9250   NaN        S  \n",
       "3      0            113803  53.1000  C123        S  \n",
       "4      0            373450   8.0500   NaN        S  \n",
       "5      0            330877   8.4583   NaN        Q  \n",
       "6      0             17463  51.8625   E46        S  \n",
       "7      1            349909  21.0750   NaN        S  \n",
       "8      2            347742  11.1333   NaN        S  \n",
       "9      0            237736  30.0708   NaN        C  "
      ]
     },
     "execution_count": 3,
     "metadata": {},
     "output_type": "execute_result"
    }
   ],
   "source": [
    "data.head(10)"
   ]
  },
  {
   "cell_type": "code",
   "execution_count": 4,
   "id": "812fa084",
   "metadata": {},
   "outputs": [
    {
     "data": {
      "text/plain": [
       "(891, 12)"
      ]
     },
     "execution_count": 4,
     "metadata": {},
     "output_type": "execute_result"
    }
   ],
   "source": [
    "data.shape"
   ]
  },
  {
   "cell_type": "code",
   "execution_count": 5,
   "id": "e61d1e4d",
   "metadata": {},
   "outputs": [
    {
     "name": "stdout",
     "output_type": "stream",
     "text": [
      "<class 'pandas.core.frame.DataFrame'>\n",
      "RangeIndex: 891 entries, 0 to 890\n",
      "Data columns (total 12 columns):\n",
      " #   Column       Non-Null Count  Dtype  \n",
      "---  ------       --------------  -----  \n",
      " 0   PassengerId  891 non-null    int64  \n",
      " 1   Survived     891 non-null    int64  \n",
      " 2   Pclass       891 non-null    int64  \n",
      " 3   Name         891 non-null    object \n",
      " 4   Sex          891 non-null    object \n",
      " 5   Age          714 non-null    float64\n",
      " 6   SibSp        891 non-null    int64  \n",
      " 7   Parch        891 non-null    int64  \n",
      " 8   Ticket       891 non-null    object \n",
      " 9   Fare         891 non-null    float64\n",
      " 10  Cabin        204 non-null    object \n",
      " 11  Embarked     889 non-null    object \n",
      "dtypes: float64(2), int64(5), object(5)\n",
      "memory usage: 83.7+ KB\n"
     ]
    }
   ],
   "source": [
    "data.info()"
   ]
  },
  {
   "cell_type": "code",
   "execution_count": 6,
   "id": "c3b6efe5",
   "metadata": {},
   "outputs": [
    {
     "data": {
      "application/vnd.microsoft.datawrangler.viewer.v0+json": {
       "columns": [
        {
         "name": "index",
         "rawType": "object",
         "type": "string"
        },
        {
         "name": "PassengerId",
         "rawType": "float64",
         "type": "float"
        },
        {
         "name": "Survived",
         "rawType": "float64",
         "type": "float"
        },
        {
         "name": "Pclass",
         "rawType": "float64",
         "type": "float"
        },
        {
         "name": "Age",
         "rawType": "float64",
         "type": "float"
        },
        {
         "name": "SibSp",
         "rawType": "float64",
         "type": "float"
        },
        {
         "name": "Parch",
         "rawType": "float64",
         "type": "float"
        },
        {
         "name": "Fare",
         "rawType": "float64",
         "type": "float"
        }
       ],
       "ref": "1cb46c4e-fd49-4c78-a630-e234ed0d934d",
       "rows": [
        [
         "count",
         "891.0",
         "891.0",
         "891.0",
         "714.0",
         "891.0",
         "891.0",
         "891.0"
        ],
        [
         "mean",
         "446.0",
         "0.3838383838383838",
         "2.308641975308642",
         "29.69911764705882",
         "0.5230078563411896",
         "0.38159371492704824",
         "32.204207968574636"
        ],
        [
         "std",
         "257.3538420152301",
         "0.4865924542648575",
         "0.836071240977049",
         "14.526497332334042",
         "1.1027434322934317",
         "0.8060572211299483",
         "49.6934285971809"
        ],
        [
         "min",
         "1.0",
         "0.0",
         "1.0",
         "0.42",
         "0.0",
         "0.0",
         "0.0"
        ],
        [
         "25%",
         "223.5",
         "0.0",
         "2.0",
         "20.125",
         "0.0",
         "0.0",
         "7.9104"
        ],
        [
         "50%",
         "446.0",
         "0.0",
         "3.0",
         "28.0",
         "0.0",
         "0.0",
         "14.4542"
        ],
        [
         "75%",
         "668.5",
         "1.0",
         "3.0",
         "38.0",
         "1.0",
         "0.0",
         "31.0"
        ],
        [
         "max",
         "891.0",
         "1.0",
         "3.0",
         "80.0",
         "8.0",
         "6.0",
         "512.3292"
        ]
       ],
       "shape": {
        "columns": 7,
        "rows": 8
       }
      },
      "text/html": [
       "<div>\n",
       "<style scoped>\n",
       "    .dataframe tbody tr th:only-of-type {\n",
       "        vertical-align: middle;\n",
       "    }\n",
       "\n",
       "    .dataframe tbody tr th {\n",
       "        vertical-align: top;\n",
       "    }\n",
       "\n",
       "    .dataframe thead th {\n",
       "        text-align: right;\n",
       "    }\n",
       "</style>\n",
       "<table border=\"1\" class=\"dataframe\">\n",
       "  <thead>\n",
       "    <tr style=\"text-align: right;\">\n",
       "      <th></th>\n",
       "      <th>PassengerId</th>\n",
       "      <th>Survived</th>\n",
       "      <th>Pclass</th>\n",
       "      <th>Age</th>\n",
       "      <th>SibSp</th>\n",
       "      <th>Parch</th>\n",
       "      <th>Fare</th>\n",
       "    </tr>\n",
       "  </thead>\n",
       "  <tbody>\n",
       "    <tr>\n",
       "      <th>count</th>\n",
       "      <td>891.000000</td>\n",
       "      <td>891.000000</td>\n",
       "      <td>891.000000</td>\n",
       "      <td>714.000000</td>\n",
       "      <td>891.000000</td>\n",
       "      <td>891.000000</td>\n",
       "      <td>891.000000</td>\n",
       "    </tr>\n",
       "    <tr>\n",
       "      <th>mean</th>\n",
       "      <td>446.000000</td>\n",
       "      <td>0.383838</td>\n",
       "      <td>2.308642</td>\n",
       "      <td>29.699118</td>\n",
       "      <td>0.523008</td>\n",
       "      <td>0.381594</td>\n",
       "      <td>32.204208</td>\n",
       "    </tr>\n",
       "    <tr>\n",
       "      <th>std</th>\n",
       "      <td>257.353842</td>\n",
       "      <td>0.486592</td>\n",
       "      <td>0.836071</td>\n",
       "      <td>14.526497</td>\n",
       "      <td>1.102743</td>\n",
       "      <td>0.806057</td>\n",
       "      <td>49.693429</td>\n",
       "    </tr>\n",
       "    <tr>\n",
       "      <th>min</th>\n",
       "      <td>1.000000</td>\n",
       "      <td>0.000000</td>\n",
       "      <td>1.000000</td>\n",
       "      <td>0.420000</td>\n",
       "      <td>0.000000</td>\n",
       "      <td>0.000000</td>\n",
       "      <td>0.000000</td>\n",
       "    </tr>\n",
       "    <tr>\n",
       "      <th>25%</th>\n",
       "      <td>223.500000</td>\n",
       "      <td>0.000000</td>\n",
       "      <td>2.000000</td>\n",
       "      <td>20.125000</td>\n",
       "      <td>0.000000</td>\n",
       "      <td>0.000000</td>\n",
       "      <td>7.910400</td>\n",
       "    </tr>\n",
       "    <tr>\n",
       "      <th>50%</th>\n",
       "      <td>446.000000</td>\n",
       "      <td>0.000000</td>\n",
       "      <td>3.000000</td>\n",
       "      <td>28.000000</td>\n",
       "      <td>0.000000</td>\n",
       "      <td>0.000000</td>\n",
       "      <td>14.454200</td>\n",
       "    </tr>\n",
       "    <tr>\n",
       "      <th>75%</th>\n",
       "      <td>668.500000</td>\n",
       "      <td>1.000000</td>\n",
       "      <td>3.000000</td>\n",
       "      <td>38.000000</td>\n",
       "      <td>1.000000</td>\n",
       "      <td>0.000000</td>\n",
       "      <td>31.000000</td>\n",
       "    </tr>\n",
       "    <tr>\n",
       "      <th>max</th>\n",
       "      <td>891.000000</td>\n",
       "      <td>1.000000</td>\n",
       "      <td>3.000000</td>\n",
       "      <td>80.000000</td>\n",
       "      <td>8.000000</td>\n",
       "      <td>6.000000</td>\n",
       "      <td>512.329200</td>\n",
       "    </tr>\n",
       "  </tbody>\n",
       "</table>\n",
       "</div>"
      ],
      "text/plain": [
       "       PassengerId    Survived      Pclass         Age       SibSp  \\\n",
       "count   891.000000  891.000000  891.000000  714.000000  891.000000   \n",
       "mean    446.000000    0.383838    2.308642   29.699118    0.523008   \n",
       "std     257.353842    0.486592    0.836071   14.526497    1.102743   \n",
       "min       1.000000    0.000000    1.000000    0.420000    0.000000   \n",
       "25%     223.500000    0.000000    2.000000   20.125000    0.000000   \n",
       "50%     446.000000    0.000000    3.000000   28.000000    0.000000   \n",
       "75%     668.500000    1.000000    3.000000   38.000000    1.000000   \n",
       "max     891.000000    1.000000    3.000000   80.000000    8.000000   \n",
       "\n",
       "            Parch        Fare  \n",
       "count  891.000000  891.000000  \n",
       "mean     0.381594   32.204208  \n",
       "std      0.806057   49.693429  \n",
       "min      0.000000    0.000000  \n",
       "25%      0.000000    7.910400  \n",
       "50%      0.000000   14.454200  \n",
       "75%      0.000000   31.000000  \n",
       "max      6.000000  512.329200  "
      ]
     },
     "execution_count": 6,
     "metadata": {},
     "output_type": "execute_result"
    }
   ],
   "source": [
    "data.describe()"
   ]
  },
  {
   "cell_type": "code",
   "execution_count": 7,
   "id": "227edda0",
   "metadata": {},
   "outputs": [
    {
     "data": {
      "application/vnd.microsoft.datawrangler.viewer.v0+json": {
       "columns": [
        {
         "name": "index",
         "rawType": "object",
         "type": "string"
        },
        {
         "name": "0",
         "rawType": "float64",
         "type": "float"
        }
       ],
       "ref": "00464c0c-e080-45d6-9729-be72c3cc810b",
       "rows": [
        [
         "PassengerId",
         "0.0"
        ],
        [
         "Survived",
         "0.0"
        ],
        [
         "Pclass",
         "0.0"
        ],
        [
         "Name",
         "0.0"
        ],
        [
         "Sex",
         "0.0"
        ],
        [
         "Age",
         "19.865319865319865"
        ],
        [
         "SibSp",
         "0.0"
        ],
        [
         "Parch",
         "0.0"
        ],
        [
         "Ticket",
         "0.0"
        ],
        [
         "Fare",
         "0.0"
        ],
        [
         "Cabin",
         "77.10437710437711"
        ],
        [
         "Embarked",
         "0.2244668911335578"
        ]
       ],
       "shape": {
        "columns": 1,
        "rows": 12
       }
      },
      "text/plain": [
       "PassengerId     0.000000\n",
       "Survived        0.000000\n",
       "Pclass          0.000000\n",
       "Name            0.000000\n",
       "Sex             0.000000\n",
       "Age            19.865320\n",
       "SibSp           0.000000\n",
       "Parch           0.000000\n",
       "Ticket          0.000000\n",
       "Fare            0.000000\n",
       "Cabin          77.104377\n",
       "Embarked        0.224467\n",
       "dtype: float64"
      ]
     },
     "execution_count": 7,
     "metadata": {},
     "output_type": "execute_result"
    }
   ],
   "source": [
    "data.isnull().sum()*100/len(data)"
   ]
  },
  {
   "cell_type": "code",
   "execution_count": 8,
   "id": "938da044",
   "metadata": {},
   "outputs": [],
   "source": [
    "data.drop(columns=[\"Cabin\"], inplace=True)"
   ]
  },
  {
   "cell_type": "code",
   "execution_count": 9,
   "id": "9d8a369d",
   "metadata": {},
   "outputs": [
    {
     "data": {
      "text/plain": [
       "['PassengerId', 'Survived', 'Pclass', 'Age', 'SibSp', 'Parch', 'Fare']"
      ]
     },
     "execution_count": 9,
     "metadata": {},
     "output_type": "execute_result"
    }
   ],
   "source": [
    "numerical_colimns = data.select_dtypes(np.number).columns.to_list()\n",
    "numerical_colimns"
   ]
  },
  {
   "cell_type": "code",
   "execution_count": 10,
   "id": "3ce36466",
   "metadata": {},
   "outputs": [
    {
     "data": {
      "image/png": "[encoded data removed]",
      "text/plain": [
       "<Figure size 800x500 with 7 Axes>"
      ]
     },
     "metadata": {},
     "output_type": "display_data"
    }
   ],
   "source": [
    "plt.figure(figsize=(8, 5))\n",
    "for col in numerical_colimns:\n",
    "    plt.subplot(3, 3, numerical_colimns.index(col)+1 )\n",
    "    sns.kdeplot(data[col])\n",
    "    plt.title(col)\n",
    "    plt.xlabel(col)\n",
    "    plt.ylabel(\"Frequency\")\n",
    "    plt.tight_layout()\n",
    "plt.show()"
   ]
  },
  {
   "cell_type": "code",
   "execution_count": 11,
   "id": "441fd641",
   "metadata": {},
   "outputs": [],
   "source": [
    "data[\"Age\"] = data[\"Age\"].fillna(data[\"Age\"].median())\n",
    "data[\"Embarked\"] = data[\"Embarked\"].fillna(data[\"Embarked\"].mode()[0])\n"
   ]
  },
  {
   "cell_type": "code",
   "execution_count": 12,
   "id": "e2ef4531",
   "metadata": {},
   "outputs": [],
   "source": [
    "outliers_col = [\"Fare\", \"SibSp\", \"Age\"]"
   ]
  },
  {
   "cell_type": "code",
   "execution_count": 13,
   "id": "a65332bd",
   "metadata": {},
   "outputs": [],
   "source": [
    "Q1 = data[outliers_col].quantile(0.25)\n",
    "Q3 = data[outliers_col].quantile(0.75)\n",
    "IQR = Q3-Q1\n",
    "outliers = ((data[outliers_col] < Q1 - 1.5*IQR) | (data[outliers_col] > Q3 + 1.5*IQR)).any(axis=1)"
   ]
  },
  {
   "cell_type": "code",
   "execution_count": 14,
   "id": "0ee56673",
   "metadata": {},
   "outputs": [
    {
     "data": {
      "text/plain": [
       "np.float64(22.334455667789)"
      ]
     },
     "execution_count": 14,
     "metadata": {},
     "output_type": "execute_result"
    }
   ],
   "source": [
    "outliers.sum()*100/len(data)"
   ]
  },
  {
   "cell_type": "code",
   "execution_count": 15,
   "id": "0c31e1fa",
   "metadata": {},
   "outputs": [],
   "source": [
    "for col in outliers_col:\n",
    "    data[col] = np.where(outliers , data[col].median(), data[col])"
   ]
  },
  {
   "cell_type": "code",
   "execution_count": 16,
   "id": "2fa9281d",
   "metadata": {},
   "outputs": [
    {
     "data": {
      "text/plain": [
       "np.int64(0)"
      ]
     },
     "execution_count": 16,
     "metadata": {},
     "output_type": "execute_result"
    }
   ],
   "source": [
    "data.duplicated().sum()"
   ]
  },
  {
   "cell_type": "code",
   "execution_count": 17,
   "id": "5a3ba560",
   "metadata": {},
   "outputs": [
    {
     "data": {
      "image/png": "[encoded data removed]",
      "text/plain": [
       "<Figure size 800x500 with 7 Axes>"
      ]
     },
     "metadata": {},
     "output_type": "display_data"
    }
   ],
   "source": [
    "plt.figure(figsize=(8, 5))\n",
    "for col in numerical_colimns:\n",
    "    plt.subplot(3, 3, numerical_colimns.index(col)+1 )\n",
    "    sns.kdeplot(data[col], fill= True)\n",
    "    plt.title(col)\n",
    "    plt.xlabel(col)\n",
    "    plt.ylabel(\"Frequency\")\n",
    "    plt.tight_layout()\n",
    "plt.show()"
   ]
  },
  {
   "cell_type": "code",
   "execution_count": 18,
   "id": "96fcfa36",
   "metadata": {},
   "outputs": [
    {
     "data": {
      "application/vnd.microsoft.datawrangler.viewer.v0+json": {
       "columns": [
        {
         "name": "index",
         "rawType": "object",
         "type": "string"
        },
        {
         "name": "PassengerId",
         "rawType": "float64",
         "type": "float"
        },
        {
         "name": "Survived",
         "rawType": "float64",
         "type": "float"
        },
        {
         "name": "Pclass",
         "rawType": "float64",
         "type": "float"
        },
        {
         "name": "Age",
         "rawType": "float64",
         "type": "float"
        },
        {
         "name": "SibSp",
         "rawType": "float64",
         "type": "float"
        },
        {
         "name": "Parch",
         "rawType": "float64",
         "type": "float"
        },
        {
         "name": "Fare",
         "rawType": "float64",
         "type": "float"
        }
       ],
       "ref": "5341f813-8359-4f16-a339-f5695e452ba4",
       "rows": [
        [
         "count",
         "891.0",
         "891.0",
         "891.0",
         "891.0",
         "891.0",
         "891.0",
         "891.0"
        ],
        [
         "mean",
         "446.0",
         "0.3838383838383838",
         "2.308641975308642",
         "28.562289562289564",
         "0.2132435465768799",
         "0.38159371492704824",
         "16.306029854096522"
        ],
        [
         "std",
         "257.3538420152301",
         "0.4865924542648575",
         "0.836071240977049",
         "8.426302648555192",
         "0.456517996433719",
         "0.8060572211299483",
         "11.881677037985648"
        ],
        [
         "min",
         "1.0",
         "0.0",
         "1.0",
         "3.0",
         "0.0",
         "0.0",
         "0.0"
        ],
        [
         "25%",
         "223.5",
         "0.0",
         "2.0",
         "26.0",
         "0.0",
         "0.0",
         "7.925"
        ],
        [
         "50%",
         "446.0",
         "0.0",
         "3.0",
         "28.0",
         "0.0",
         "0.0",
         "14.4542"
        ],
        [
         "75%",
         "668.5",
         "1.0",
         "3.0",
         "30.0",
         "0.0",
         "0.0",
         "16.1"
        ],
        [
         "max",
         "891.0",
         "1.0",
         "3.0",
         "54.0",
         "2.0",
         "6.0",
         "65.0"
        ]
       ],
       "shape": {
        "columns": 7,
        "rows": 8
       }
      },
      "text/html": [
       "<div>\n",
       "<style scoped>\n",
       "    .dataframe tbody tr th:only-of-type {\n",
       "        vertical-align: middle;\n",
       "    }\n",
       "\n",
       "    .dataframe tbody tr th {\n",
       "        vertical-align: top;\n",
       "    }\n",
       "\n",
       "    .dataframe thead th {\n",
       "        text-align: right;\n",
       "    }\n",
       "</style>\n",
       "<table border=\"1\" class=\"dataframe\">\n",
       "  <thead>\n",
       "    <tr style=\"text-align: right;\">\n",
       "      <th></th>\n",
       "      <th>PassengerId</th>\n",
       "      <th>Survived</th>\n",
       "      <th>Pclass</th>\n",
       "      <th>Age</th>\n",
       "      <th>SibSp</th>\n",
       "      <th>Parch</th>\n",
       "      <th>Fare</th>\n",
       "    </tr>\n",
       "  </thead>\n",
       "  <tbody>\n",
       "    <tr>\n",
       "      <th>count</th>\n",
       "      <td>891.000000</td>\n",
       "      <td>891.000000</td>\n",
       "      <td>891.000000</td>\n",
       "      <td>891.000000</td>\n",
       "      <td>891.000000</td>\n",
       "      <td>891.000000</td>\n",
       "      <td>891.000000</td>\n",
       "    </tr>\n",
       "    <tr>\n",
       "      <th>mean</th>\n",
       "      <td>446.000000</td>\n",
       "      <td>0.383838</td>\n",
       "      <td>2.308642</td>\n",
       "      <td>28.562290</td>\n",
       "      <td>0.213244</td>\n",
       "      <td>0.381594</td>\n",
       "      <td>16.306030</td>\n",
       "    </tr>\n",
       "    <tr>\n",
       "      <th>std</th>\n",
       "      <td>257.353842</td>\n",
       "      <td>0.486592</td>\n",
       "      <td>0.836071</td>\n",
       "      <td>8.426303</td>\n",
       "      <td>0.456518</td>\n",
       "      <td>0.806057</td>\n",
       "      <td>11.881677</td>\n",
       "    </tr>\n",
       "    <tr>\n",
       "      <th>min</th>\n",
       "      <td>1.000000</td>\n",
       "      <td>0.000000</td>\n",
       "      <td>1.000000</td>\n",
       "      <td>3.000000</td>\n",
       "      <td>0.000000</td>\n",
       "      <td>0.000000</td>\n",
       "      <td>0.000000</td>\n",
       "    </tr>\n",
       "    <tr>\n",
       "      <th>25%</th>\n",
       "      <td>223.500000</td>\n",
       "      <td>0.000000</td>\n",
       "      <td>2.000000</td>\n",
       "      <td>26.000000</td>\n",
       "      <td>0.000000</td>\n",
       "      <td>0.000000</td>\n",
       "      <td>7.925000</td>\n",
       "    </tr>\n",
       "    <tr>\n",
       "      <th>50%</th>\n",
       "      <td>446.000000</td>\n",
       "      <td>0.000000</td>\n",
       "      <td>3.000000</td>\n",
       "      <td>28.000000</td>\n",
       "      <td>0.000000</td>\n",
       "      <td>0.000000</td>\n",
       "      <td>14.454200</td>\n",
       "    </tr>\n",
       "    <tr>\n",
       "      <th>75%</th>\n",
       "      <td>668.500000</td>\n",
       "      <td>1.000000</td>\n",
       "      <td>3.000000</td>\n",
       "      <td>30.000000</td>\n",
       "      <td>0.000000</td>\n",
       "      <td>0.000000</td>\n",
       "      <td>16.100000</td>\n",
       "    </tr>\n",
       "    <tr>\n",
       "      <th>max</th>\n",
       "      <td>891.000000</td>\n",
       "      <td>1.000000</td>\n",
       "      <td>3.000000</td>\n",
       "      <td>54.000000</td>\n",
       "      <td>2.000000</td>\n",
       "      <td>6.000000</td>\n",
       "      <td>65.000000</td>\n",
       "    </tr>\n",
       "  </tbody>\n",
       "</table>\n",
       "</div>"
      ],
      "text/plain": [
       "       PassengerId    Survived      Pclass         Age       SibSp  \\\n",
       "count   891.000000  891.000000  891.000000  891.000000  891.000000   \n",
       "mean    446.000000    0.383838    2.308642   28.562290    0.213244   \n",
       "std     257.353842    0.486592    0.836071    8.426303    0.456518   \n",
       "min       1.000000    0.000000    1.000000    3.000000    0.000000   \n",
       "25%     223.500000    0.000000    2.000000   26.000000    0.000000   \n",
       "50%     446.000000    0.000000    3.000000   28.000000    0.000000   \n",
       "75%     668.500000    1.000000    3.000000   30.000000    0.000000   \n",
       "max     891.000000    1.000000    3.000000   54.000000    2.000000   \n",
       "\n",
       "            Parch        Fare  \n",
       "count  891.000000  891.000000  \n",
       "mean     0.381594   16.306030  \n",
       "std      0.806057   11.881677  \n",
       "min      0.000000    0.000000  \n",
       "25%      0.000000    7.925000  \n",
       "50%      0.000000   14.454200  \n",
       "75%      0.000000   16.100000  \n",
       "max      6.000000   65.000000  "
      ]
     },
     "execution_count": 18,
     "metadata": {},
     "output_type": "execute_result"
    }
   ],
   "source": [
    "data.describe()"
   ]
  },
  {
   "cell_type": "code",
   "execution_count": 19,
   "id": "9b665f1b",
   "metadata": {},
   "outputs": [
    {
     "data": {
      "image/png": "[encoded data removed]",
      "text/plain": [
       "<Figure size 1000x1000 with 2 Axes>"
      ]
     },
     "metadata": {},
     "output_type": "display_data"
    }
   ],
   "source": [
    "plt.figure(figsize=(10,10))\n",
    "sns.heatmap(data[numerical_colimns].corr(),annot=True,cmap='Greens')\n",
    "plt.show()"
   ]
  },
  {
   "cell_type": "code",
   "execution_count": 20,
   "id": "40d27ab4",
   "metadata": {},
   "outputs": [],
   "source": [
    "categorical_col = data.select_dtypes(\"object\").columns\n",
    "numerical_col = data.select_dtypes(np.number).columns"
   ]
  },
  {
   "cell_type": "code",
   "execution_count": 21,
   "id": "c8d4d943",
   "metadata": {},
   "outputs": [],
   "source": [
    "x = data.drop(columns=[\"Survived\", \"PassengerId\", \"Name\"])\n",
    "y = data[\"Survived\"]"
   ]
  },
  {
   "cell_type": "code",
   "execution_count": 22,
   "id": "2fafea05",
   "metadata": {},
   "outputs": [
    {
     "data": {
      "image/png": "[encoded data removed]",
      "text/plain": [
       "<Figure size 800x500 with 1 Axes>"
      ]
     },
     "metadata": {},
     "output_type": "display_data"
    },
    {
     "data": {
      "image/png": "[encoded data removed]",
      "text/plain": [
       "<Figure size 640x480 with 1 Axes>"
      ]
     },
     "metadata": {},
     "output_type": "display_data"
    },
    {
     "data": {
      "image/png": "[encoded data removed]",
      "text/plain": [
       "<Figure size 640x480 with 1 Axes>"
      ]
     },
     "metadata": {},
     "output_type": "display_data"
    },
    {
     "data": {
      "image/png": "[encoded data removed]",
      "text/plain": [
       "<Figure size 640x480 with 1 Axes>"
      ]
     },
     "metadata": {},
     "output_type": "display_data"
    },
    {
     "data": {
      "image/png": "[encoded data removed]",
      "text/plain": [
       "<Figure size 640x480 with 1 Axes>"
      ]
     },
     "metadata": {},
     "output_type": "display_data"
    },
    {
     "data": {
      "image/png": "[encoded data removed]",
      "text/plain": [
       "<Figure size 640x480 with 1 Axes>"
      ]
     },
     "metadata": {},
     "output_type": "display_data"
    },
    {
     "data": {
      "image/png": "[encoded data removed]",
      "text/plain": [
       "<Figure size 640x480 with 1 Axes>"
      ]
     },
     "metadata": {},
     "output_type": "display_data"
    },
    {
     "data": {
      "image/png": "[encoded data removed]",
      "text/plain": [
       "<Figure size 640x480 with 1 Axes>"
      ]
     },
     "metadata": {},
     "output_type": "display_data"
    }
   ],
   "source": [
    "plt.figure(figsize=(8, 5))\n",
    "for col in x.columns:\n",
    "    sns.histplot(x[col])\n",
    "    plt.title(col)\n",
    "    plt.show()"
   ]
  },
  {
   "cell_type": "code",
   "execution_count": 23,
   "id": "b8a25000",
   "metadata": {},
   "outputs": [
    {
     "data": {
      "image/png": "[encoded data removed]",
      "text/plain": [
       "<Figure size 800x500 with 1 Axes>"
      ]
     },
     "metadata": {},
     "output_type": "display_data"
    }
   ],
   "source": [
    "category, value = np.unique(y, return_counts=True)\n",
    "plt.figure(figsize=(8, 5))\n",
    "plt.bar(category, value, color= \"green\")\n",
    "plt.title(\"The survived\")\n",
    "plt.xlabel(\"Servived\")\n",
    "plt.ylabel(\"Count\")\n",
    "plt.show()"
   ]
  },
  {
   "cell_type": "code",
   "execution_count": 24,
   "id": "857281c8",
   "metadata": {},
   "outputs": [],
   "source": [
    "from sklearn.model_selection import train_test_split\n",
    "\n",
    "X_train, X_test, Y_train, Y_test = train_test_split(x, y, test_size=0.2, random_state=42)"
   ]
  },
  {
   "cell_type": "code",
   "execution_count": 25,
   "id": "5a4390de",
   "metadata": {},
   "outputs": [
    {
     "data": {
      "application/vnd.microsoft.datawrangler.viewer.v0+json": {
       "columns": [
        {
         "name": "index",
         "rawType": "int64",
         "type": "integer"
        },
        {
         "name": "Pclass",
         "rawType": "int64",
         "type": "integer"
        },
        {
         "name": "Sex",
         "rawType": "object",
         "type": "string"
        },
        {
         "name": "Age",
         "rawType": "float64",
         "type": "float"
        },
        {
         "name": "SibSp",
         "rawType": "float64",
         "type": "float"
        },
        {
         "name": "Parch",
         "rawType": "int64",
         "type": "integer"
        },
        {
         "name": "Ticket",
         "rawType": "object",
         "type": "string"
        },
        {
         "name": "Fare",
         "rawType": "float64",
         "type": "float"
        },
        {
         "name": "Embarked",
         "rawType": "object",
         "type": "string"
        }
       ],
       "ref": "1aa8909f-276f-4938-93f4-11a87da16084",
       "rows": [
        [
         "331",
         "1",
         "male",
         "45.5",
         "0.0",
         "0",
         "113043",
         "28.5",
         "S"
        ],
        [
         "733",
         "2",
         "male",
         "23.0",
         "0.0",
         "0",
         "28425",
         "13.0",
         "S"
        ],
        [
         "382",
         "3",
         "male",
         "32.0",
         "0.0",
         "0",
         "STON/O 2. 3101293",
         "7.925",
         "S"
        ],
        [
         "704",
         "3",
         "male",
         "26.0",
         "1.0",
         "0",
         "350025",
         "7.8542",
         "S"
        ],
        [
         "813",
         "3",
         "female",
         "28.0",
         "0.0",
         "2",
         "347082",
         "14.4542",
         "S"
        ],
        [
         "118",
         "1",
         "male",
         "28.0",
         "0.0",
         "1",
         "PC 17558",
         "14.4542",
         "C"
        ],
        [
         "536",
         "1",
         "male",
         "45.0",
         "0.0",
         "0",
         "113050",
         "26.55",
         "S"
        ],
        [
         "361",
         "2",
         "male",
         "29.0",
         "1.0",
         "0",
         "SC/PARIS 2167",
         "27.7208",
         "C"
        ],
        [
         "29",
         "3",
         "male",
         "28.0",
         "0.0",
         "0",
         "349216",
         "7.8958",
         "S"
        ],
        [
         "55",
         "1",
         "male",
         "28.0",
         "0.0",
         "0",
         "19947",
         "35.5",
         "S"
        ],
        [
         "865",
         "2",
         "female",
         "42.0",
         "0.0",
         "0",
         "236852",
         "13.0",
         "S"
        ],
        [
         "595",
         "3",
         "male",
         "36.0",
         "1.0",
         "1",
         "345773",
         "24.15",
         "S"
        ],
        [
         "239",
         "2",
         "male",
         "33.0",
         "0.0",
         "0",
         "SCO/W 1585",
         "12.275",
         "S"
        ],
        [
         "721",
         "3",
         "male",
         "17.0",
         "1.0",
         "0",
         "350048",
         "7.0542",
         "S"
        ],
        [
         "81",
         "3",
         "male",
         "29.0",
         "0.0",
         "0",
         "345779",
         "9.5",
         "S"
        ],
        [
         "259",
         "2",
         "female",
         "50.0",
         "0.0",
         "1",
         "230433",
         "26.0",
         "S"
        ],
        [
         "486",
         "1",
         "female",
         "28.0",
         "0.0",
         "0",
         "19943",
         "14.4542",
         "S"
        ],
        [
         "716",
         "1",
         "female",
         "28.0",
         "0.0",
         "0",
         "PC 17757",
         "14.4542",
         "C"
        ],
        [
         "800",
         "2",
         "male",
         "34.0",
         "0.0",
         "0",
         "250647",
         "13.0",
         "S"
        ],
        [
         "781",
         "1",
         "female",
         "17.0",
         "1.0",
         "0",
         "17474",
         "57.0",
         "S"
        ],
        [
         "542",
         "3",
         "female",
         "28.0",
         "0.0",
         "2",
         "347082",
         "14.4542",
         "S"
        ],
        [
         "326",
         "3",
         "male",
         "28.0",
         "0.0",
         "0",
         "345364",
         "14.4542",
         "S"
        ],
        [
         "534",
         "3",
         "female",
         "30.0",
         "0.0",
         "0",
         "315084",
         "8.6625",
         "S"
        ],
        [
         "535",
         "2",
         "female",
         "7.0",
         "0.0",
         "2",
         "F.C.C. 13529",
         "26.25",
         "S"
        ],
        [
         "483",
         "3",
         "female",
         "28.0",
         "0.0",
         "0",
         "4134",
         "14.4542",
         "S"
        ],
        [
         "762",
         "3",
         "male",
         "20.0",
         "0.0",
         "0",
         "2663",
         "7.2292",
         "C"
        ],
        [
         "533",
         "3",
         "female",
         "28.0",
         "0.0",
         "2",
         "2668",
         "22.3583",
         "C"
        ],
        [
         "713",
         "3",
         "male",
         "29.0",
         "0.0",
         "0",
         "7545",
         "9.4833",
         "S"
        ],
        [
         "390",
         "1",
         "male",
         "28.0",
         "0.0",
         "2",
         "113760",
         "14.4542",
         "S"
        ],
        [
         "495",
         "3",
         "male",
         "28.0",
         "0.0",
         "0",
         "2627",
         "14.4583",
         "C"
        ],
        [
         "482",
         "3",
         "male",
         "50.0",
         "0.0",
         "0",
         "A/5 3594",
         "8.05",
         "S"
        ],
        [
         "377",
         "1",
         "male",
         "28.0",
         "0.0",
         "2",
         "113503",
         "14.4542",
         "C"
        ],
        [
         "365",
         "3",
         "male",
         "30.0",
         "0.0",
         "0",
         "C 7076",
         "7.25",
         "S"
        ],
        [
         "412",
         "1",
         "female",
         "28.0",
         "0.0",
         "0",
         "19928",
         "14.4542",
         "Q"
        ],
        [
         "468",
         "3",
         "male",
         "28.0",
         "0.0",
         "0",
         "36209",
         "7.725",
         "Q"
        ],
        [
         "409",
         "3",
         "female",
         "28.0",
         "0.0",
         "1",
         "4133",
         "14.4542",
         "S"
        ],
        [
         "7",
         "3",
         "male",
         "28.0",
         "0.0",
         "1",
         "349909",
         "14.4542",
         "S"
        ],
        [
         "580",
         "2",
         "female",
         "25.0",
         "1.0",
         "1",
         "237789",
         "30.0",
         "S"
        ],
        [
         "155",
         "1",
         "male",
         "51.0",
         "0.0",
         "1",
         "PC 17597",
         "61.3792",
         "C"
        ],
        [
         "880",
         "2",
         "female",
         "25.0",
         "0.0",
         "1",
         "230433",
         "26.0",
         "S"
        ],
        [
         "425",
         "3",
         "male",
         "28.0",
         "0.0",
         "0",
         "A/4. 34244",
         "7.25",
         "S"
        ],
        [
         "101",
         "3",
         "male",
         "28.0",
         "0.0",
         "0",
         "349215",
         "7.8958",
         "S"
        ],
        [
         "199",
         "2",
         "female",
         "24.0",
         "0.0",
         "0",
         "248747",
         "13.0",
         "S"
        ],
        [
         "424",
         "3",
         "male",
         "18.0",
         "1.0",
         "1",
         "370129",
         "20.2125",
         "S"
        ],
        [
         "298",
         "1",
         "male",
         "28.0",
         "0.0",
         "0",
         "19988",
         "30.5",
         "S"
        ],
        [
         "884",
         "3",
         "male",
         "25.0",
         "0.0",
         "0",
         "SOTON/OQ 392076",
         "7.05",
         "S"
        ],
        [
         "247",
         "2",
         "female",
         "24.0",
         "0.0",
         "2",
         "250649",
         "14.5",
         "S"
        ],
        [
         "478",
         "3",
         "male",
         "22.0",
         "0.0",
         "0",
         "350060",
         "7.5208",
         "S"
        ],
        [
         "305",
         "1",
         "male",
         "28.0",
         "0.0",
         "2",
         "113781",
         "14.4542",
         "S"
        ],
        [
         "316",
         "2",
         "female",
         "24.0",
         "1.0",
         "0",
         "244367",
         "26.0",
         "S"
        ]
       ],
       "shape": {
        "columns": 8,
        "rows": 712
       }
      },
      "text/html": [
       "<div>\n",
       "<style scoped>\n",
       "    .dataframe tbody tr th:only-of-type {\n",
       "        vertical-align: middle;\n",
       "    }\n",
       "\n",
       "    .dataframe tbody tr th {\n",
       "        vertical-align: top;\n",
       "    }\n",
       "\n",
       "    .dataframe thead th {\n",
       "        text-align: right;\n",
       "    }\n",
       "</style>\n",
       "<table border=\"1\" class=\"dataframe\">\n",
       "  <thead>\n",
       "    <tr style=\"text-align: right;\">\n",
       "      <th></th>\n",
       "      <th>Pclass</th>\n",
       "      <th>Sex</th>\n",
       "      <th>Age</th>\n",
       "      <th>SibSp</th>\n",
       "      <th>Parch</th>\n",
       "      <th>Ticket</th>\n",
       "      <th>Fare</th>\n",
       "      <th>Embarked</th>\n",
       "    </tr>\n",
       "  </thead>\n",
       "  <tbody>\n",
       "    <tr>\n",
       "      <th>331</th>\n",
       "      <td>1</td>\n",
       "      <td>male</td>\n",
       "      <td>45.5</td>\n",
       "      <td>0.0</td>\n",
       "      <td>0</td>\n",
       "      <td>113043</td>\n",
       "      <td>28.5000</td>\n",
       "      <td>S</td>\n",
       "    </tr>\n",
       "    <tr>\n",
       "      <th>733</th>\n",
       "      <td>2</td>\n",
       "      <td>male</td>\n",
       "      <td>23.0</td>\n",
       "      <td>0.0</td>\n",
       "      <td>0</td>\n",
       "      <td>28425</td>\n",
       "      <td>13.0000</td>\n",
       "      <td>S</td>\n",
       "    </tr>\n",
       "    <tr>\n",
       "      <th>382</th>\n",
       "      <td>3</td>\n",
       "      <td>male</td>\n",
       "      <td>32.0</td>\n",
       "      <td>0.0</td>\n",
       "      <td>0</td>\n",
       "      <td>STON/O 2. 3101293</td>\n",
       "      <td>7.9250</td>\n",
       "      <td>S</td>\n",
       "    </tr>\n",
       "    <tr>\n",
       "      <th>704</th>\n",
       "      <td>3</td>\n",
       "      <td>male</td>\n",
       "      <td>26.0</td>\n",
       "      <td>1.0</td>\n",
       "      <td>0</td>\n",
       "      <td>350025</td>\n",
       "      <td>7.8542</td>\n",
       "      <td>S</td>\n",
       "    </tr>\n",
       "    <tr>\n",
       "      <th>813</th>\n",
       "      <td>3</td>\n",
       "      <td>female</td>\n",
       "      <td>28.0</td>\n",
       "      <td>0.0</td>\n",
       "      <td>2</td>\n",
       "      <td>347082</td>\n",
       "      <td>14.4542</td>\n",
       "      <td>S</td>\n",
       "    </tr>\n",
       "    <tr>\n",
       "      <th>...</th>\n",
       "      <td>...</td>\n",
       "      <td>...</td>\n",
       "      <td>...</td>\n",
       "      <td>...</td>\n",
       "      <td>...</td>\n",
       "      <td>...</td>\n",
       "      <td>...</td>\n",
       "      <td>...</td>\n",
       "    </tr>\n",
       "    <tr>\n",
       "      <th>106</th>\n",
       "      <td>3</td>\n",
       "      <td>female</td>\n",
       "      <td>21.0</td>\n",
       "      <td>0.0</td>\n",
       "      <td>0</td>\n",
       "      <td>343120</td>\n",
       "      <td>7.6500</td>\n",
       "      <td>S</td>\n",
       "    </tr>\n",
       "    <tr>\n",
       "      <th>270</th>\n",
       "      <td>1</td>\n",
       "      <td>male</td>\n",
       "      <td>28.0</td>\n",
       "      <td>0.0</td>\n",
       "      <td>0</td>\n",
       "      <td>113798</td>\n",
       "      <td>31.0000</td>\n",
       "      <td>S</td>\n",
       "    </tr>\n",
       "    <tr>\n",
       "      <th>860</th>\n",
       "      <td>3</td>\n",
       "      <td>male</td>\n",
       "      <td>41.0</td>\n",
       "      <td>2.0</td>\n",
       "      <td>0</td>\n",
       "      <td>350026</td>\n",
       "      <td>14.1083</td>\n",
       "      <td>S</td>\n",
       "    </tr>\n",
       "    <tr>\n",
       "      <th>435</th>\n",
       "      <td>1</td>\n",
       "      <td>female</td>\n",
       "      <td>28.0</td>\n",
       "      <td>0.0</td>\n",
       "      <td>2</td>\n",
       "      <td>113760</td>\n",
       "      <td>14.4542</td>\n",
       "      <td>S</td>\n",
       "    </tr>\n",
       "    <tr>\n",
       "      <th>102</th>\n",
       "      <td>1</td>\n",
       "      <td>male</td>\n",
       "      <td>28.0</td>\n",
       "      <td>0.0</td>\n",
       "      <td>1</td>\n",
       "      <td>35281</td>\n",
       "      <td>14.4542</td>\n",
       "      <td>S</td>\n",
       "    </tr>\n",
       "  </tbody>\n",
       "</table>\n",
       "<p>712 rows × 8 columns</p>\n",
       "</div>"
      ],
      "text/plain": [
       "     Pclass     Sex   Age  SibSp  Parch             Ticket     Fare Embarked\n",
       "331       1    male  45.5    0.0      0             113043  28.5000        S\n",
       "733       2    male  23.0    0.0      0              28425  13.0000        S\n",
       "382       3    male  32.0    0.0      0  STON/O 2. 3101293   7.9250        S\n",
       "704       3    male  26.0    1.0      0             350025   7.8542        S\n",
       "813       3  female  28.0    0.0      2             347082  14.4542        S\n",
       "..      ...     ...   ...    ...    ...                ...      ...      ...\n",
       "106       3  female  21.0    0.0      0             343120   7.6500        S\n",
       "270       1    male  28.0    0.0      0             113798  31.0000        S\n",
       "860       3    male  41.0    2.0      0             350026  14.1083        S\n",
       "435       1  female  28.0    0.0      2             113760  14.4542        S\n",
       "102       1    male  28.0    0.0      1              35281  14.4542        S\n",
       "\n",
       "[712 rows x 8 columns]"
      ]
     },
     "execution_count": 25,
     "metadata": {},
     "output_type": "execute_result"
    }
   ],
   "source": [
    "X_train"
   ]
  },
  {
   "cell_type": "code",
   "execution_count": 28,
   "id": "2bd7fd25",
   "metadata": {},
   "outputs": [],
   "source": [
    "from sklearn.preprocessing import LabelEncoder\n",
    "encoder = LabelEncoder()\n",
    "\n",
    "for col in X_train.select_dtypes(include='object'):\n",
    "    X_train[col] = encoder.fit_transform(X_train[col])\n",
    "    X_test[col] = encoder.transform(X_test[col])"
   ]
  },
  {
   "cell_type": "code",
   "execution_count": 29,
   "id": "cbab7122",
   "metadata": {},
   "outputs": [],
   "source": [
    "from sklearn.preprocessing import StandardScaler\n",
    "scaler = StandardScaler()\n",
    "\n",
    "num_col = x.select_dtypes(np.number).columns\n",
    "X_train[num_col] = scaler.fit_transform(X_train[num_col]) \n",
    "X_test[num_col] = scaler.transform(X_test[num_col]) "
   ]
  },
  {
   "cell_type": "code",
   "execution_count": 31,
   "id": "43582dbb",
   "metadata": {},
   "outputs": [],
   "source": [
    "Y_train = encoder.fit_transform(Y_train)\n",
    "Y_test = encoder.transform(Y_test)"
   ]
  },
  {
   "cell_type": "code",
   "execution_count": 32,
   "id": "f7aab326",
   "metadata": {},
   "outputs": [
    {
     "data": {
      "application/vnd.microsoft.datawrangler.viewer.v0+json": {
       "columns": [
        {
         "name": "index",
         "rawType": "int64",
         "type": "integer"
        },
        {
         "name": "Pclass",
         "rawType": "float64",
         "type": "float"
        },
        {
         "name": "Sex",
         "rawType": "int64",
         "type": "integer"
        },
        {
         "name": "Age",
         "rawType": "float64",
         "type": "float"
        },
        {
         "name": "SibSp",
         "rawType": "float64",
         "type": "float"
        },
        {
         "name": "Parch",
         "rawType": "float64",
         "type": "float"
        },
        {
         "name": "Ticket",
         "rawType": "int64",
         "type": "integer"
        },
        {
         "name": "Fare",
         "rawType": "float64",
         "type": "float"
        },
        {
         "name": "Embarked",
         "rawType": "int64",
         "type": "integer"
        }
       ],
       "ref": "fd703fab-3e20-4633-85b7-0990e68fa0e1",
       "rows": [
        [
         "331",
         "-1.6141360232496715",
         "1",
         "1.994772902339312",
         "-0.46146201262628744",
         "-0.47934163551176356",
         "15",
         "1.055895233195364",
         "2"
        ],
        [
         "733",
         "-0.40055117789194583",
         "1",
         "-0.670025454521577",
         "-0.46146201262628744",
         "-0.47934163551176356",
         "188",
         "-0.26541625397386287",
         "2"
        ],
        [
         "382",
         "0.8130336674657798",
         "1",
         "0.39589388822277854",
         "-0.46146201262628744",
         "-0.47934163551176356",
         "543",
         "-0.6980392086437871",
         "2"
        ],
        [
         "704",
         "0.8130336674657798",
         "1",
         "-0.31471900694012517",
         "1.7289443406398237",
         "-0.47934163551176356",
         "332",
         "-0.7040746185335667",
         "2"
        ],
        [
         "813",
         "0.8130336674657798",
         "0",
         "-0.07784804188582392",
         "-0.46146201262628744",
         "2.048741656965093",
         "277",
         "-0.14145166270666998",
         "2"
        ],
        [
         "118",
         "-1.6141360232496715",
         "1",
         "-0.07784804188582392",
         "-0.46146201262628744",
         "0.7847000107266648",
         "481",
         "-0.14145166270666998",
         "0"
        ],
        [
         "536",
         "-1.6141360232496715",
         "1",
         "1.9355551610757367",
         "-0.46146201262628744",
         "-0.47934163551176356",
         "16",
         "0.8896657235192355",
         "2"
        ],
        [
         "361",
         "-0.40055117789194583",
         "1",
         "0.040587440641326696",
         "1.7289443406398237",
         "-0.47934163551176356",
         "520",
         "0.989471626046831",
         "0"
        ],
        [
         "29",
         "0.8130336674657798",
         "1",
         "-0.07784804188582392",
         "-0.46146201262628744",
         "-0.47934163551176356",
         "301",
         "-0.7005283889938091",
         "2"
        ],
        [
         "55",
         "-1.6141360232496715",
         "1",
         "-0.07784804188582392",
         "-0.46146201262628744",
         "-0.47934163551176356",
         "78",
         "1.6526165499814665",
         "2"
        ],
        [
         "865",
         "-0.40055117789194583",
         "0",
         "1.5802487134942846",
         "-0.46146201262628744",
         "-0.47934163551176356",
         "104",
         "-0.26541625397386287",
         "2"
        ],
        [
         "595",
         "0.8130336674657798",
         "1",
         "0.869635818331381",
         "1.7289443406398237",
         "0.7847000107266648",
         "256",
         "0.6850755577640002",
         "2"
        ],
        [
         "239",
         "-0.40055117789194583",
         "1",
         "0.5143293707499291",
         "-0.46146201262628744",
         "-0.47934163551176356",
         "522",
         "-0.3272195332124235",
         "2"
        ],
        [
         "721",
         "0.8130336674657798",
         "1",
         "-1.3806383496844807",
         "1.7289443406398237",
         "-0.47934163551176356",
         "340",
         "-0.7722713404519783",
         "2"
        ],
        [
         "81",
         "0.8130336674657798",
         "1",
         "0.040587440641326696",
         "-0.46146201262628744",
         "-0.47934163551176356",
         "259",
         "-0.5637769123669141",
         "2"
        ],
        [
         "259",
         "-0.40055117789194583",
         "0",
         "2.5277325737114897",
         "-0.46146201262628744",
         "0.7847000107266648",
         "93",
         "0.8427804772003273",
         "2"
        ],
        [
         "486",
         "-1.6141360232496715",
         "0",
         "-0.07784804188582392",
         "-0.46146201262628744",
         "-0.47934163551176356",
         "77",
         "-0.14145166270666998",
         "2"
        ],
        [
         "716",
         "-1.6141360232496715",
         "0",
         "-0.07784804188582392",
         "-0.46146201262628744",
         "-0.47934163551176356",
         "500",
         "-0.14145166270666998",
         "0"
        ],
        [
         "800",
         "-0.40055117789194583",
         "1",
         "0.6327648532770798",
         "-0.46146201262628744",
         "-0.47934163551176356",
         "134",
         "-0.26541625397386287",
         "2"
        ],
        [
         "781",
         "-1.6141360232496715",
         "0",
         "-1.3806383496844807",
         "1.7289443406398237",
         "-0.47934163551176356",
         "74",
         "3.485403451538781",
         "2"
        ],
        [
         "542",
         "0.8130336674657798",
         "0",
         "-0.07784804188582392",
         "-0.46146201262628744",
         "2.048741656965093",
         "277",
         "-0.14145166270666998",
         "2"
        ],
        [
         "326",
         "0.8130336674657798",
         "1",
         "-0.07784804188582392",
         "-0.46146201262628744",
         "-0.47934163551176356",
         "248",
         "-0.14145166270666998",
         "2"
        ],
        [
         "534",
         "0.8130336674657798",
         "0",
         "0.15902292316847733",
         "-0.46146201262628744",
         "-0.47934163551176356",
         "216",
         "-0.6351703556252514",
         "2"
        ],
        [
         "535",
         "-0.40055117789194583",
         "0",
         "-2.564993174955987",
         "-0.46146201262628744",
         "2.048741656965093",
         "472",
         "0.864091952799831",
         "2"
        ],
        [
         "483",
         "0.8130336674657798",
         "0",
         "-0.07784804188582392",
         "-0.46146201262628744",
         "-0.47934163551176356",
         "406",
         "-0.14145166270666998",
         "2"
        ],
        [
         "762",
         "0.8130336674657798",
         "1",
         "-1.025331902103029",
         "-0.46146201262628744",
         "-0.47934163551176356",
         "157",
         "-0.7573533075323258",
         "0"
        ],
        [
         "533",
         "0.8130336674657798",
         "0",
         "-0.07784804188582392",
         "-0.46146201262628744",
         "2.048741656965093",
         "162",
         "0.5323404744374775",
         "0"
        ],
        [
         "713",
         "0.8130336674657798",
         "1",
         "0.040587440641326696",
         "-0.46146201262628744",
         "-0.47934163551176356",
         "420",
         "-0.565200518936961",
         "2"
        ],
        [
         "390",
         "-1.6141360232496715",
         "1",
         "-0.07784804188582392",
         "-0.46146201262628744",
         "2.048741656965093",
         "27",
         "-0.14145166270666998",
         "2"
        ],
        [
         "495",
         "0.8130336674657798",
         "1",
         "-0.07784804188582392",
         "-0.46146201262628744",
         "-0.47934163551176356",
         "144",
         "-0.14110215450683816",
         "0"
        ],
        [
         "482",
         "0.8130336674657798",
         "1",
         "2.5277325737114897",
         "-0.46146201262628744",
         "-0.47934163551176356",
         "438",
         "-0.6873834708440353",
         "2"
        ],
        [
         "377",
         "-1.6141360232496715",
         "1",
         "-0.07784804188582392",
         "-0.46146201262628744",
         "2.048741656965093",
         "22",
         "-0.14145166270666998",
         "0"
        ],
        [
         "365",
         "0.8130336674657798",
         "1",
         "0.15902292316847733",
         "-0.46146201262628744",
         "-0.47934163551176356",
         "451",
         "-0.755580192762447",
         "2"
        ],
        [
         "412",
         "-1.6141360232496715",
         "0",
         "-0.07784804188582392",
         "-0.46146201262628744",
         "-0.47934163551176356",
         "76",
         "-0.14145166270666998",
         "1"
        ],
        [
         "468",
         "0.8130336674657798",
         "1",
         "-0.07784804188582392",
         "-0.46146201262628744",
         "-0.47934163551176356",
         "352",
         "-0.7150883891233901",
         "1"
        ],
        [
         "409",
         "0.8130336674657798",
         "0",
         "-0.07784804188582392",
         "-0.46146201262628744",
         "0.7847000107266648",
         "405",
         "-0.14145166270666998",
         "2"
        ],
        [
         "7",
         "0.8130336674657798",
         "1",
         "-0.07784804188582392",
         "-0.46146201262628744",
         "0.7847000107266648",
         "330",
         "-0.14145166270666998",
         "2"
        ],
        [
         "580",
         "-0.40055117789194583",
         "0",
         "-0.4331544894672758",
         "1.7289443406398237",
         "0.7847000107266648",
         "110",
         "1.183764086792386",
         "2"
        ],
        [
         "155",
         "-1.6141360232496715",
         "1",
         "2.6461680562386403",
         "-0.46146201262628744",
         "0.7847000107266648",
         "490",
         "3.8587123073201663",
         "0"
        ],
        [
         "880",
         "-0.40055117789194583",
         "0",
         "-0.4331544894672758",
         "-0.46146201262628744",
         "0.7847000107266648",
         "93",
         "0.8427804772003273",
         "2"
        ],
        [
         "425",
         "0.8130336674657798",
         "1",
         "-0.07784804188582392",
         "-0.46146201262628744",
         "-0.47934163551176356",
         "431",
         "-0.755580192762447",
         "2"
        ],
        [
         "101",
         "0.8130336674657798",
         "1",
         "-0.07784804188582392",
         "-0.46146201262628744",
         "-0.47934163551176356",
         "300",
         "-0.7005283889938091",
         "2"
        ],
        [
         "199",
         "-0.40055117789194583",
         "0",
         "-0.5515899719944264",
         "-0.46146201262628744",
         "-0.47934163551176356",
         "131",
         "-0.26541625397386287",
         "2"
        ],
        [
         "424",
         "0.8130336674657798",
         "1",
         "-1.2622028671573302",
         "1.7289443406398237",
         "0.7847000107266648",
         "379",
         "0.3494198170718176",
         "2"
        ],
        [
         "298",
         "-1.6141360232496715",
         "1",
         "-0.07784804188582392",
         "-0.46146201262628744",
         "-0.47934163551176356",
         "81",
         "1.2263870379913933",
         "2"
        ],
        [
         "884",
         "0.8130336674657798",
         "1",
         "-0.4331544894672758",
         "-0.46146201262628744",
         "-0.47934163551176356",
         "530",
         "-0.7726293732420498",
         "2"
        ],
        [
         "247",
         "-0.40055117789194583",
         "0",
         "-0.5515899719944264",
         "-0.46146201262628744",
         "2.048741656965093",
         "136",
         "-0.1375474003768409",
         "2"
        ],
        [
         "478",
         "0.8130336674657798",
         "1",
         "-0.7884609370487277",
         "-0.46146201262628744",
         "-0.47934163551176356",
         "343",
         "-0.7324956023930645",
         "2"
        ],
        [
         "305",
         "-1.6141360232496715",
         "1",
         "-0.07784804188582392",
         "-0.46146201262628744",
         "2.048741656965093",
         "31",
         "-0.14145166270666998",
         "2"
        ],
        [
         "316",
         "-0.40055117789194583",
         "0",
         "-0.5515899719944264",
         "1.7289443406398237",
         "-0.47934163551176356",
         "124",
         "0.8427804772003273",
         "2"
        ]
       ],
       "shape": {
        "columns": 8,
        "rows": 712
       }
      },
      "text/html": [
       "<div>\n",
       "<style scoped>\n",
       "    .dataframe tbody tr th:only-of-type {\n",
       "        vertical-align: middle;\n",
       "    }\n",
       "\n",
       "    .dataframe tbody tr th {\n",
       "        vertical-align: top;\n",
       "    }\n",
       "\n",
       "    .dataframe thead th {\n",
       "        text-align: right;\n",
       "    }\n",
       "</style>\n",
       "<table border=\"1\" class=\"dataframe\">\n",
       "  <thead>\n",
       "    <tr style=\"text-align: right;\">\n",
       "      <th></th>\n",
       "      <th>Pclass</th>\n",
       "      <th>Sex</th>\n",
       "      <th>Age</th>\n",
       "      <th>SibSp</th>\n",
       "      <th>Parch</th>\n",
       "      <th>Ticket</th>\n",
       "      <th>Fare</th>\n",
       "      <th>Embarked</th>\n",
       "    </tr>\n",
       "  </thead>\n",
       "  <tbody>\n",
       "    <tr>\n",
       "      <th>331</th>\n",
       "      <td>-1.614136</td>\n",
       "      <td>1</td>\n",
       "      <td>1.994773</td>\n",
       "      <td>-0.461462</td>\n",
       "      <td>-0.479342</td>\n",
       "      <td>15</td>\n",
       "      <td>1.055895</td>\n",
       "      <td>2</td>\n",
       "    </tr>\n",
       "    <tr>\n",
       "      <th>733</th>\n",
       "      <td>-0.400551</td>\n",
       "      <td>1</td>\n",
       "      <td>-0.670025</td>\n",
       "      <td>-0.461462</td>\n",
       "      <td>-0.479342</td>\n",
       "      <td>188</td>\n",
       "      <td>-0.265416</td>\n",
       "      <td>2</td>\n",
       "    </tr>\n",
       "    <tr>\n",
       "      <th>382</th>\n",
       "      <td>0.813034</td>\n",
       "      <td>1</td>\n",
       "      <td>0.395894</td>\n",
       "      <td>-0.461462</td>\n",
       "      <td>-0.479342</td>\n",
       "      <td>543</td>\n",
       "      <td>-0.698039</td>\n",
       "      <td>2</td>\n",
       "    </tr>\n",
       "    <tr>\n",
       "      <th>704</th>\n",
       "      <td>0.813034</td>\n",
       "      <td>1</td>\n",
       "      <td>-0.314719</td>\n",
       "      <td>1.728944</td>\n",
       "      <td>-0.479342</td>\n",
       "      <td>332</td>\n",
       "      <td>-0.704075</td>\n",
       "      <td>2</td>\n",
       "    </tr>\n",
       "    <tr>\n",
       "      <th>813</th>\n",
       "      <td>0.813034</td>\n",
       "      <td>0</td>\n",
       "      <td>-0.077848</td>\n",
       "      <td>-0.461462</td>\n",
       "      <td>2.048742</td>\n",
       "      <td>277</td>\n",
       "      <td>-0.141452</td>\n",
       "      <td>2</td>\n",
       "    </tr>\n",
       "    <tr>\n",
       "      <th>...</th>\n",
       "      <td>...</td>\n",
       "      <td>...</td>\n",
       "      <td>...</td>\n",
       "      <td>...</td>\n",
       "      <td>...</td>\n",
       "      <td>...</td>\n",
       "      <td>...</td>\n",
       "      <td>...</td>\n",
       "    </tr>\n",
       "    <tr>\n",
       "      <th>106</th>\n",
       "      <td>0.813034</td>\n",
       "      <td>0</td>\n",
       "      <td>-0.906896</td>\n",
       "      <td>-0.461462</td>\n",
       "      <td>-0.479342</td>\n",
       "      <td>245</td>\n",
       "      <td>-0.721482</td>\n",
       "      <td>2</td>\n",
       "    </tr>\n",
       "    <tr>\n",
       "      <th>270</th>\n",
       "      <td>-1.614136</td>\n",
       "      <td>1</td>\n",
       "      <td>-0.077848</td>\n",
       "      <td>-0.461462</td>\n",
       "      <td>-0.479342</td>\n",
       "      <td>39</td>\n",
       "      <td>1.269010</td>\n",
       "      <td>2</td>\n",
       "    </tr>\n",
       "    <tr>\n",
       "      <th>860</th>\n",
       "      <td>0.813034</td>\n",
       "      <td>1</td>\n",
       "      <td>1.461813</td>\n",
       "      <td>3.919351</td>\n",
       "      <td>-0.479342</td>\n",
       "      <td>333</td>\n",
       "      <td>-0.170938</td>\n",
       "      <td>2</td>\n",
       "    </tr>\n",
       "    <tr>\n",
       "      <th>435</th>\n",
       "      <td>-1.614136</td>\n",
       "      <td>0</td>\n",
       "      <td>-0.077848</td>\n",
       "      <td>-0.461462</td>\n",
       "      <td>2.048742</td>\n",
       "      <td>27</td>\n",
       "      <td>-0.141452</td>\n",
       "      <td>2</td>\n",
       "    </tr>\n",
       "    <tr>\n",
       "      <th>102</th>\n",
       "      <td>-1.614136</td>\n",
       "      <td>1</td>\n",
       "      <td>-0.077848</td>\n",
       "      <td>-0.461462</td>\n",
       "      <td>0.784700</td>\n",
       "      <td>348</td>\n",
       "      <td>-0.141452</td>\n",
       "      <td>2</td>\n",
       "    </tr>\n",
       "  </tbody>\n",
       "</table>\n",
       "<p>712 rows × 8 columns</p>\n",
       "</div>"
      ],
      "text/plain": [
       "       Pclass  Sex       Age     SibSp     Parch  Ticket      Fare  Embarked\n",
       "331 -1.614136    1  1.994773 -0.461462 -0.479342      15  1.055895         2\n",
       "733 -0.400551    1 -0.670025 -0.461462 -0.479342     188 -0.265416         2\n",
       "382  0.813034    1  0.395894 -0.461462 -0.479342     543 -0.698039         2\n",
       "704  0.813034    1 -0.314719  1.728944 -0.479342     332 -0.704075         2\n",
       "813  0.813034    0 -0.077848 -0.461462  2.048742     277 -0.141452         2\n",
       "..        ...  ...       ...       ...       ...     ...       ...       ...\n",
       "106  0.813034    0 -0.906896 -0.461462 -0.479342     245 -0.721482         2\n",
       "270 -1.614136    1 -0.077848 -0.461462 -0.479342      39  1.269010         2\n",
       "860  0.813034    1  1.461813  3.919351 -0.479342     333 -0.170938         2\n",
       "435 -1.614136    0 -0.077848 -0.461462  2.048742      27 -0.141452         2\n",
       "102 -1.614136    1 -0.077848 -0.461462  0.784700     348 -0.141452         2\n",
       "\n",
       "[712 rows x 8 columns]"
      ]
     },
     "execution_count": 32,
     "metadata": {},
     "output_type": "execute_result"
    }
   ],
   "source": [
    "X_train"
   ]
  },
  {
   "cell_type": "code",
   "execution_count": 33,
   "id": "fe7e3c21",
   "metadata": {},
   "outputs": [
    {
     "data": {
      "application/vnd.microsoft.datawrangler.viewer.v0+json": {
       "columns": [
        {
         "name": "index",
         "rawType": "int64",
         "type": "integer"
        },
        {
         "name": "Pclass",
         "rawType": "float64",
         "type": "float"
        },
        {
         "name": "Sex",
         "rawType": "int64",
         "type": "integer"
        },
        {
         "name": "Age",
         "rawType": "float64",
         "type": "float"
        },
        {
         "name": "SibSp",
         "rawType": "float64",
         "type": "float"
        },
        {
         "name": "Parch",
         "rawType": "float64",
         "type": "float"
        },
        {
         "name": "Ticket",
         "rawType": "object",
         "type": "string"
        },
        {
         "name": "Fare",
         "rawType": "float64",
         "type": "float"
        },
        {
         "name": "Embarked",
         "rawType": "int64",
         "type": "integer"
        }
       ],
       "ref": "90fced73-b722-452b-9ac1-558b93c6857e",
       "rows": [
        [
         "709",
         "0.8130336674657798",
         "1",
         "-0.07784804188582392",
         "1.7289443406398237",
         "0.7847000107266648",
         "2661",
         "-0.07397100636840168",
         "0"
        ],
        [
         "439",
         "-0.40055117789194583",
         "1",
         "0.2774584056956279",
         "-0.46146201262628744",
         "-0.47934163551176356",
         "C.A. 18723",
         "-0.47853100996889947",
         "2"
        ],
        [
         "840",
         "0.8130336674657798",
         "1",
         "-1.025331902103029",
         "-0.46146201262628744",
         "-0.47934163551176356",
         "SOTON/O2 3101287",
         "-0.6980392086437871",
         "2"
        ],
        [
         "720",
         "-0.40055117789194583",
         "0",
         "-2.6834286574831374",
         "-0.46146201262628744",
         "0.7847000107266648",
         "248727",
         "1.4395017939864299",
         "2"
        ],
        [
         "39",
         "0.8130336674657798",
         "0",
         "-1.7359447972659325",
         "1.7289443406398237",
         "-0.47934163551176356",
         "2651",
         "-0.415304124160292",
         "0"
        ],
        [
         "290",
         "-1.6141360232496715",
         "0",
         "-0.07784804188582392",
         "-0.46146201262628744",
         "-0.47934163551176356",
         "19877",
         "-0.14145166270666998",
         "2"
        ],
        [
         "300",
         "0.8130336674657798",
         "0",
         "-0.07784804188582392",
         "-0.46146201262628744",
         "-0.47934163551176356",
         "9234",
         "-0.7129572415634396",
         "1"
        ],
        [
         "333",
         "0.8130336674657798",
         "1",
         "-1.4990738322116313",
         "3.919350693905935",
         "-0.47934163551176356",
         "345764",
         "0.1608132580162103",
         "2"
        ],
        [
         "208",
         "0.8130336674657798",
         "0",
         "-1.4990738322116313",
         "-0.46146201262628744",
         "-0.47934163551176356",
         "367231",
         "-0.7129572415634396",
         "1"
        ],
        [
         "136",
         "-1.6141360232496715",
         "0",
         "-1.1437673846301795",
         "-0.46146201262628744",
         "2.048741656965093",
         "11752",
         "0.866930641349685",
         "2"
        ],
        [
         "137",
         "-1.6141360232496715",
         "1",
         "0.9880713008585317",
         "1.7289443406398237",
         "-0.47934163551176356",
         "113803",
         "3.152944432186524",
         "2"
        ],
        [
         "696",
         "0.8130336674657798",
         "1",
         "1.817119678548586",
         "-0.46146201262628744",
         "-0.47934163551176356",
         "363592",
         "-0.6873834708440353",
         "2"
        ],
        [
         "485",
         "0.8130336674657798",
         "0",
         "-0.07784804188582392",
         "-0.46146201262628744",
         "0.7847000107266648",
         "4133",
         "-0.14145166270666998",
         "2"
        ],
        [
         "244",
         "0.8130336674657798",
         "1",
         "0.15902292316847733",
         "-0.46146201262628744",
         "-0.47934163551176356",
         "2694",
         "-0.7577113403223974",
         "0"
        ],
        [
         "344",
         "-0.40055117789194583",
         "1",
         "0.869635818331381",
         "-0.46146201262628744",
         "-0.47934163551176356",
         "229236",
         "-0.26541625397386287",
         "2"
        ],
        [
         "853",
         "-1.6141360232496715",
         "0",
         "-1.4990738322116313",
         "-0.46146201262628744",
         "0.7847000107266648",
         "PC 17592",
         "1.9850755693337234",
         "2"
        ],
        [
         "621",
         "-1.6141360232496715",
         "1",
         "1.5802487134942846",
         "1.7289443406398237",
         "-0.47934163551176356",
         "11753",
         "3.1064172186576875",
         "2"
        ],
        [
         "653",
         "0.8130336674657798",
         "0",
         "-0.07784804188582392",
         "-0.46146201262628744",
         "-0.47934163551176356",
         "330919",
         "-0.7062057660935169",
         "1"
        ],
        [
         "886",
         "-0.40055117789194583",
         "1",
         "-0.19628352441297453",
         "-0.46146201262628744",
         "-0.47934163551176356",
         "211536",
         "-0.26541625397386287",
         "2"
        ],
        [
         "110",
         "-1.6141360232496715",
         "1",
         "2.1724261261300377",
         "-0.46146201262628744",
         "-0.47934163551176356",
         "110465",
         "3.0591739395487076",
         "2"
        ],
        [
         "294",
         "0.8130336674657798",
         "1",
         "-0.5515899719944264",
         "-0.46146201262628744",
         "-0.47934163551176356",
         "349233",
         "-0.7005283889938091",
         "2"
        ],
        [
         "447",
         "-1.6141360232496715",
         "1",
         "0.6327648532770798",
         "-0.46146201262628744",
         "-0.47934163551176356",
         "113794",
         "0.8896657235192355",
         "2"
        ],
        [
         "192",
         "0.8130336674657798",
         "0",
         "-1.1437673846301795",
         "1.7289443406398237",
         "-0.47934163551176356",
         "350046",
         "-0.7040746185335667",
         "2"
        ],
        [
         "682",
         "0.8130336674657798",
         "1",
         "-1.025331902103029",
         "-0.46146201262628744",
         "-0.47934163551176356",
         "6563",
         "-0.5872195355263682",
         "2"
        ],
        [
         "538",
         "0.8130336674657798",
         "1",
         "-0.07784804188582392",
         "-0.46146201262628744",
         "-0.47934163551176356",
         "364498",
         "-0.1375474003768409",
         "2"
        ],
        [
         "819",
         "0.8130336674657798",
         "1",
         "-0.07784804188582392",
         "-0.46146201262628744",
         "2.048741656965093",
         "347088",
         "-0.14145166270666998",
         "2"
        ],
        [
         "30",
         "-1.6141360232496715",
         "1",
         "1.3433777484399836",
         "-0.46146201262628744",
         "-0.47934163551176356",
         "PC 17601",
         "0.989471626046831",
         "0"
        ],
        [
         "673",
         "-0.40055117789194583",
         "1",
         "0.2774584056956279",
         "-0.46146201262628744",
         "-0.47934163551176356",
         "244270",
         "-0.26541625397386287",
         "2"
        ],
        [
         "63",
         "0.8130336674657798",
         "1",
         "-0.07784804188582392",
         "-0.46146201262628744",
         "2.048741656965093",
         "347088",
         "-0.14145166270666998",
         "2"
        ],
        [
         "396",
         "0.8130336674657798",
         "0",
         "0.2774584056956279",
         "-0.46146201262628744",
         "-0.47934163551176356",
         "350407",
         "-0.7040746185335667",
         "2"
        ],
        [
         "877",
         "0.8130336674657798",
         "1",
         "-1.1437673846301795",
         "-0.46146201262628744",
         "-0.47934163551176356",
         "349212",
         "-0.7005283889938091",
         "2"
        ],
        [
         "141",
         "0.8130336674657798",
         "0",
         "-0.7884609370487277",
         "-0.46146201262628744",
         "-0.47934163551176356",
         "347081",
         "-0.7129572415634396",
         "2"
        ],
        [
         "793",
         "-1.6141360232496715",
         "1",
         "-0.07784804188582392",
         "-0.46146201262628744",
         "-0.47934163551176356",
         "PC 17600",
         "1.2430781856809243",
         "0"
        ],
        [
         "235",
         "0.8130336674657798",
         "0",
         "-0.07784804188582392",
         "-0.46146201262628744",
         "-0.47934163551176356",
         "W./C. 6609",
         "-0.7300064220430426",
         "2"
        ],
        [
         "204",
         "0.8130336674657798",
         "1",
         "-1.2622028671573302",
         "-0.46146201262628744",
         "-0.47934163551176356",
         "A/5 3540",
         "-0.6873834708440353",
         "2"
        ],
        [
         "620",
         "0.8130336674657798",
         "1",
         "-0.19628352441297453",
         "1.7289443406398237",
         "-0.47934163551176356",
         "2659",
         "-0.14145166270666998",
         "0"
        ],
        [
         "23",
         "-1.6141360232496715",
         "1",
         "-0.07784804188582392",
         "-0.46146201262628744",
         "-0.47934163551176356",
         "113788",
         "1.6526165499814665",
         "2"
        ],
        [
         "198",
         "0.8130336674657798",
         "0",
         "-0.07784804188582392",
         "-0.46146201262628744",
         "-0.47934163551176356",
         "370370",
         "-0.7129572415634396",
         "1"
        ],
        [
         "842",
         "-1.6141360232496715",
         "0",
         "0.15902292316847733",
         "-0.46146201262628744",
         "-0.47934163551176356",
         "113798",
         "1.2690099891904005",
         "0"
        ],
        [
         "739",
         "0.8130336674657798",
         "1",
         "-0.07784804188582392",
         "-0.46146201262628744",
         "-0.47934163551176356",
         "349218",
         "-0.7005283889938091",
         "2"
        ],
        [
         "120",
         "-0.40055117789194583",
         "1",
         "-0.07784804188582392",
         "-0.46146201262628744",
         "-0.47934163551176356",
         "S.O.C. 14879",
         "-0.14145166270666998",
         "2"
        ],
        [
         "477",
         "0.8130336674657798",
         "1",
         "0.040587440641326696",
         "1.7289443406398237",
         "-0.47934163551176356",
         "3460",
         "-0.7729874060321216",
         "2"
        ],
        [
         "837",
         "0.8130336674657798",
         "1",
         "-0.07784804188582392",
         "-0.46146201262628744",
         "-0.47934163551176356",
         "392092",
         "-0.6873834708440353",
         "2"
        ],
        [
         "790",
         "0.8130336674657798",
         "1",
         "-0.07784804188582392",
         "-0.46146201262628744",
         "-0.47934163551176356",
         "12460",
         "-0.7129572415634396",
         "1"
        ],
        [
         "362",
         "0.8130336674657798",
         "0",
         "1.9355551610757367",
         "-0.46146201262628744",
         "0.7847000107266648",
         "2691",
         "-0.14145166270666998",
         "0"
        ],
        [
         "86",
         "0.8130336674657798",
         "1",
         "-1.4990738322116313",
         "1.7289443406398237",
         "3.312783303203522",
         "W./C. 6608",
         "1.5567149097836999",
         "2"
        ],
        [
         "67",
         "0.8130336674657798",
         "1",
         "-1.1437673846301795",
         "-0.46146201262628744",
         "-0.47934163551176356",
         "S.P. 3464",
         "-0.6781513396143303",
         "2"
        ],
        [
         "350",
         "0.8130336674657798",
         "1",
         "-0.670025454521577",
         "-0.46146201262628744",
         "-0.47934163551176356",
         "7267",
         "-0.5872195355263682",
         "2"
        ],
        [
         "210",
         "0.8130336674657798",
         "1",
         "-0.5515899719944264",
         "-0.46146201262628744",
         "-0.47934163551176356",
         "SOTON/O.Q. 3101311",
         "-0.7726293732420498",
         "2"
        ],
        [
         "659",
         "-1.6141360232496715",
         "1",
         "-0.07784804188582392",
         "-0.46146201262628744",
         "2.048741656965093",
         "35273",
         "-0.14145166270666998",
         "0"
        ]
       ],
       "shape": {
        "columns": 8,
        "rows": 179
       }
      },
      "text/html": [
       "<div>\n",
       "<style scoped>\n",
       "    .dataframe tbody tr th:only-of-type {\n",
       "        vertical-align: middle;\n",
       "    }\n",
       "\n",
       "    .dataframe tbody tr th {\n",
       "        vertical-align: top;\n",
       "    }\n",
       "\n",
       "    .dataframe thead th {\n",
       "        text-align: right;\n",
       "    }\n",
       "</style>\n",
       "<table border=\"1\" class=\"dataframe\">\n",
       "  <thead>\n",
       "    <tr style=\"text-align: right;\">\n",
       "      <th></th>\n",
       "      <th>Pclass</th>\n",
       "      <th>Sex</th>\n",
       "      <th>Age</th>\n",
       "      <th>SibSp</th>\n",
       "      <th>Parch</th>\n",
       "      <th>Ticket</th>\n",
       "      <th>Fare</th>\n",
       "      <th>Embarked</th>\n",
       "    </tr>\n",
       "  </thead>\n",
       "  <tbody>\n",
       "    <tr>\n",
       "      <th>709</th>\n",
       "      <td>0.813034</td>\n",
       "      <td>1</td>\n",
       "      <td>-0.077848</td>\n",
       "      <td>1.728944</td>\n",
       "      <td>0.784700</td>\n",
       "      <td>2661</td>\n",
       "      <td>-0.073971</td>\n",
       "      <td>0</td>\n",
       "    </tr>\n",
       "    <tr>\n",
       "      <th>439</th>\n",
       "      <td>-0.400551</td>\n",
       "      <td>1</td>\n",
       "      <td>0.277458</td>\n",
       "      <td>-0.461462</td>\n",
       "      <td>-0.479342</td>\n",
       "      <td>C.A. 18723</td>\n",
       "      <td>-0.478531</td>\n",
       "      <td>2</td>\n",
       "    </tr>\n",
       "    <tr>\n",
       "      <th>840</th>\n",
       "      <td>0.813034</td>\n",
       "      <td>1</td>\n",
       "      <td>-1.025332</td>\n",
       "      <td>-0.461462</td>\n",
       "      <td>-0.479342</td>\n",
       "      <td>SOTON/O2 3101287</td>\n",
       "      <td>-0.698039</td>\n",
       "      <td>2</td>\n",
       "    </tr>\n",
       "    <tr>\n",
       "      <th>720</th>\n",
       "      <td>-0.400551</td>\n",
       "      <td>0</td>\n",
       "      <td>-2.683429</td>\n",
       "      <td>-0.461462</td>\n",
       "      <td>0.784700</td>\n",
       "      <td>248727</td>\n",
       "      <td>1.439502</td>\n",
       "      <td>2</td>\n",
       "    </tr>\n",
       "    <tr>\n",
       "      <th>39</th>\n",
       "      <td>0.813034</td>\n",
       "      <td>0</td>\n",
       "      <td>-1.735945</td>\n",
       "      <td>1.728944</td>\n",
       "      <td>-0.479342</td>\n",
       "      <td>2651</td>\n",
       "      <td>-0.415304</td>\n",
       "      <td>0</td>\n",
       "    </tr>\n",
       "    <tr>\n",
       "      <th>...</th>\n",
       "      <td>...</td>\n",
       "      <td>...</td>\n",
       "      <td>...</td>\n",
       "      <td>...</td>\n",
       "      <td>...</td>\n",
       "      <td>...</td>\n",
       "      <td>...</td>\n",
       "      <td>...</td>\n",
       "    </tr>\n",
       "    <tr>\n",
       "      <th>433</th>\n",
       "      <td>0.813034</td>\n",
       "      <td>1</td>\n",
       "      <td>-1.380638</td>\n",
       "      <td>-0.461462</td>\n",
       "      <td>-0.479342</td>\n",
       "      <td>STON/O 2. 3101274</td>\n",
       "      <td>-0.766236</td>\n",
       "      <td>2</td>\n",
       "    </tr>\n",
       "    <tr>\n",
       "      <th>773</th>\n",
       "      <td>0.813034</td>\n",
       "      <td>1</td>\n",
       "      <td>-0.077848</td>\n",
       "      <td>-0.461462</td>\n",
       "      <td>-0.479342</td>\n",
       "      <td>2674</td>\n",
       "      <td>-0.757711</td>\n",
       "      <td>0</td>\n",
       "    </tr>\n",
       "    <tr>\n",
       "      <th>25</th>\n",
       "      <td>0.813034</td>\n",
       "      <td>0</td>\n",
       "      <td>1.106507</td>\n",
       "      <td>1.728944</td>\n",
       "      <td>5.840867</td>\n",
       "      <td>347077</td>\n",
       "      <td>1.302043</td>\n",
       "      <td>2</td>\n",
       "    </tr>\n",
       "    <tr>\n",
       "      <th>84</th>\n",
       "      <td>-0.400551</td>\n",
       "      <td>0</td>\n",
       "      <td>-1.380638</td>\n",
       "      <td>-0.461462</td>\n",
       "      <td>-0.479342</td>\n",
       "      <td>SO/C 14885</td>\n",
       "      <td>-0.478531</td>\n",
       "      <td>2</td>\n",
       "    </tr>\n",
       "    <tr>\n",
       "      <th>10</th>\n",
       "      <td>0.813034</td>\n",
       "      <td>0</td>\n",
       "      <td>-2.920300</td>\n",
       "      <td>1.728944</td>\n",
       "      <td>0.784700</td>\n",
       "      <td>PP 9549</td>\n",
       "      <td>0.049994</td>\n",
       "      <td>2</td>\n",
       "    </tr>\n",
       "  </tbody>\n",
       "</table>\n",
       "<p>179 rows × 8 columns</p>\n",
       "</div>"
      ],
      "text/plain": [
       "       Pclass  Sex       Age     SibSp     Parch             Ticket      Fare  \\\n",
       "709  0.813034    1 -0.077848  1.728944  0.784700               2661 -0.073971   \n",
       "439 -0.400551    1  0.277458 -0.461462 -0.479342         C.A. 18723 -0.478531   \n",
       "840  0.813034    1 -1.025332 -0.461462 -0.479342   SOTON/O2 3101287 -0.698039   \n",
       "720 -0.400551    0 -2.683429 -0.461462  0.784700             248727  1.439502   \n",
       "39   0.813034    0 -1.735945  1.728944 -0.479342               2651 -0.415304   \n",
       "..        ...  ...       ...       ...       ...                ...       ...   \n",
       "433  0.813034    1 -1.380638 -0.461462 -0.479342  STON/O 2. 3101274 -0.766236   \n",
       "773  0.813034    1 -0.077848 -0.461462 -0.479342               2674 -0.757711   \n",
       "25   0.813034    0  1.106507  1.728944  5.840867             347077  1.302043   \n",
       "84  -0.400551    0 -1.380638 -0.461462 -0.479342         SO/C 14885 -0.478531   \n",
       "10   0.813034    0 -2.920300  1.728944  0.784700            PP 9549  0.049994   \n",
       "\n",
       "     Embarked  \n",
       "709         0  \n",
       "439         2  \n",
       "840         2  \n",
       "720         2  \n",
       "39          0  \n",
       "..        ...  \n",
       "433         2  \n",
       "773         0  \n",
       "25          2  \n",
       "84          2  \n",
       "10          2  \n",
       "\n",
       "[179 rows x 8 columns]"
      ]
     },
     "execution_count": 33,
     "metadata": {},
     "output_type": "execute_result"
    }
   ],
   "source": [
    "X_test"
   ]
  }
 ],
 "metadata": {
  "kernelspec": {
   "display_name": ".venv",
   "language": "python",
   "name": "python3"
  },
  "language_info": {
   "codemirror_mode": {
    "name": "ipython",
    "version": 3
   },
   "file_extension": ".py",
   "mimetype": "text/x-python",
   "name": "python",
   "nbconvert_exporter": "python",
   "pygments_lexer": "ipython3",
   "version": "3.11.9"
  }
 },
 "nbformat": 4,
 "nbformat_minor": 5
}
